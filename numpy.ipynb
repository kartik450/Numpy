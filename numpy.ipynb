{
 "cells": [
  {
   "cell_type": "markdown",
   "metadata": {},
   "source": [
    "<h1 style=\"text-align:center; color:red\">NUMPY<h1>"
   ]
  },
  {
   "cell_type": "markdown",
   "metadata": {},
   "source": [
    "<h2 style=\"color:blue\">NumPy is a Python library for numerical computing, offering support for large, multi-dimensional arrays and matrices, along with a collection of mathematical functions to operate on these arrays.</h3>"
   ]
  },
  {
   "cell_type": "code",
   "execution_count": 308,
   "metadata": {},
   "outputs": [
    {
     "name": "stdout",
     "output_type": "stream",
     "text": [
      "Note: you may need to restart the kernel to use updated packages.\n"
     ]
    },
    {
     "name": "stderr",
     "output_type": "stream",
     "text": [
      "ERROR: Invalid requirement: '##installing'\n"
     ]
    }
   ],
   "source": [
    "pip install numpy  ##installing numpy"
   ]
  },
  {
   "cell_type": "code",
   "execution_count": 309,
   "metadata": {},
   "outputs": [],
   "source": [
    "import numpy as np"
   ]
  },
  {
   "cell_type": "code",
   "execution_count": 310,
   "metadata": {},
   "outputs": [],
   "source": [
    "ls=[12,34,35,23]"
   ]
  },
  {
   "cell_type": "code",
   "execution_count": 311,
   "metadata": {},
   "outputs": [
    {
     "name": "stdout",
     "output_type": "stream",
     "text": [
      "[12 34 35 23]\n",
      "<class 'numpy.ndarray'>\n"
     ]
    }
   ],
   "source": [
    "a=np.array(ls)\n",
    "print(a)\n",
    "print(type(a))"
   ]
  },
  {
   "cell_type": "code",
   "execution_count": 312,
   "metadata": {},
   "outputs": [
    {
     "name": "stdout",
     "output_type": "stream",
     "text": [
      "12\n",
      "34\n",
      "35\n",
      "23\n"
     ]
    }
   ],
   "source": [
    "for i in a:\n",
    "    print(i)"
   ]
  },
  {
   "cell_type": "code",
   "execution_count": 313,
   "metadata": {},
   "outputs": [
    {
     "name": "stdout",
     "output_type": "stream",
     "text": [
      "[17 39 40 28]\n"
     ]
    }
   ],
   "source": [
    "a=a+5 ## added to all elements\n",
    "print(a)"
   ]
  },
  {
   "cell_type": "code",
   "execution_count": 314,
   "metadata": {},
   "outputs": [
    {
     "data": {
      "text/plain": [
       "1"
      ]
     },
     "execution_count": 314,
     "metadata": {},
     "output_type": "execute_result"
    }
   ],
   "source": [
    "a.ndim ## returns dimension"
   ]
  },
  {
   "cell_type": "code",
   "execution_count": 315,
   "metadata": {},
   "outputs": [],
   "source": [
    "#[[],[],[]...] ## structure of 2-d array"
   ]
  },
  {
   "cell_type": "code",
   "execution_count": 316,
   "metadata": {},
   "outputs": [],
   "source": [
    "l=[22,\"ds\"]"
   ]
  },
  {
   "cell_type": "code",
   "execution_count": 317,
   "metadata": {},
   "outputs": [],
   "source": [
    "ar=np.array(l) ##converting list to array"
   ]
  },
  {
   "cell_type": "code",
   "execution_count": 318,
   "metadata": {},
   "outputs": [
    {
     "name": "stdout",
     "output_type": "stream",
     "text": [
      "['22' 'ds']\n"
     ]
    }
   ],
   "source": [
    "print(ar)"
   ]
  },
  {
   "cell_type": "code",
   "execution_count": 319,
   "metadata": {},
   "outputs": [
    {
     "name": "stdout",
     "output_type": "stream",
     "text": [
      "<class 'numpy.str_'>\n"
     ]
    }
   ],
   "source": [
    "print(type(ar[0])) ##returns type of element of the array"
   ]
  },
  {
   "cell_type": "code",
   "execution_count": 320,
   "metadata": {},
   "outputs": [
    {
     "data": {
      "text/plain": [
       "dtype('<U11')"
      ]
     },
     "execution_count": 320,
     "metadata": {},
     "output_type": "execute_result"
    }
   ],
   "source": [
    "ar.dtype ##returns data type of elemn=ents of array"
   ]
  },
  {
   "cell_type": "code",
   "execution_count": 321,
   "metadata": {},
   "outputs": [
    {
     "data": {
      "text/plain": [
       "dtype('int32')"
      ]
     },
     "execution_count": 321,
     "metadata": {},
     "output_type": "execute_result"
    }
   ],
   "source": [
    "a.dtype"
   ]
  },
  {
   "cell_type": "code",
   "execution_count": 322,
   "metadata": {},
   "outputs": [
    {
     "name": "stdout",
     "output_type": "stream",
     "text": [
      "40\n",
      "[17 39 40 28]\n",
      "2054882781072\n"
     ]
    }
   ],
   "source": [
    "print(a[2])\n",
    "print(a)\n",
    "print(id(ar)) ##accessing location of element in array"
   ]
  },
  {
   "cell_type": "code",
   "execution_count": 323,
   "metadata": {},
   "outputs": [
    {
     "data": {
      "text/plain": [
       "array([22, 45, 23, 46, 23,  8, 23, 79, 27])"
      ]
     },
     "execution_count": 323,
     "metadata": {},
     "output_type": "execute_result"
    }
   ],
   "source": [
    "lst=[22,45,23,46,23,8,23,79,27]\n",
    "arr=np.array(lst)\n",
    "arr"
   ]
  },
  {
   "cell_type": "code",
   "execution_count": 324,
   "metadata": {},
   "outputs": [
    {
     "name": "stdout",
     "output_type": "stream",
     "text": [
      "[22 23]\n"
     ]
    }
   ],
   "source": [
    "print(arr[0:4:2])"
   ]
  },
  {
   "cell_type": "code",
   "execution_count": 325,
   "metadata": {},
   "outputs": [
    {
     "name": "stdout",
     "output_type": "stream",
     "text": [
      "9\n",
      "9\n"
     ]
    }
   ],
   "source": [
    "print(arr.size)\n",
    "print(len(arr))"
   ]
  },
  {
   "cell_type": "code",
   "execution_count": 326,
   "metadata": {},
   "outputs": [
    {
     "name": "stdout",
     "output_type": "stream",
     "text": [
      "22\n",
      "45\n",
      "23\n",
      "46\n",
      "23\n",
      "8\n",
      "23\n",
      "27\n"
     ]
    }
   ],
   "source": [
    "for i in arr:\n",
    "    if i<50:\n",
    "        print(i)"
   ]
  },
  {
   "cell_type": "code",
   "execution_count": 327,
   "metadata": {},
   "outputs": [
    {
     "data": {
      "text/plain": [
       "array([22, 45, 23, 46, 23,  8, 23, 27])"
      ]
     },
     "execution_count": 327,
     "metadata": {},
     "output_type": "execute_result"
    }
   ],
   "source": [
    "arr[arr<50] ##returns an array with elements less than 50"
   ]
  },
  {
   "cell_type": "code",
   "execution_count": 328,
   "metadata": {},
   "outputs": [
    {
     "data": {
      "text/plain": [
       "(9,)"
      ]
     },
     "execution_count": 328,
     "metadata": {},
     "output_type": "execute_result"
    }
   ],
   "source": [
    "arr.shape ##returns number of elements and dimensions"
   ]
  },
  {
   "cell_type": "code",
   "execution_count": 329,
   "metadata": {},
   "outputs": [
    {
     "data": {
      "text/plain": [
       "array([ 1,  3,  5,  7,  9, 11, 13, 15, 17, 19, 21, 23, 25, 27, 29, 31, 33,\n",
       "       35, 37, 39, 41, 43, 45, 47, 49])"
      ]
     },
     "execution_count": 329,
     "metadata": {},
     "output_type": "execute_result"
    }
   ],
   "source": [
    "np.arange(1,50,2) ## it returns an array from 1 to 49 with step 2 with one dimension."
   ]
  },
  {
   "cell_type": "code",
   "execution_count": 330,
   "metadata": {},
   "outputs": [
    {
     "name": "stdout",
     "output_type": "stream",
     "text": [
      "[1. 1. 1. 1. 1. 1. 1. 1. 1. 1.]\n"
     ]
    }
   ],
   "source": [
    "print(np.ones(10)) ## returns 10 times ones(1's)\n"
   ]
  },
  {
   "cell_type": "code",
   "execution_count": 331,
   "metadata": {},
   "outputs": [
    {
     "data": {
      "text/plain": [
       "array([[1., 1., 1., 1., 1.],\n",
       "       [1., 1., 1., 1., 1.],\n",
       "       [1., 1., 1., 1., 1.],\n",
       "       [1., 1., 1., 1., 1.],\n",
       "       [1., 1., 1., 1., 1.],\n",
       "       [1., 1., 1., 1., 1.],\n",
       "       [1., 1., 1., 1., 1.],\n",
       "       [1., 1., 1., 1., 1.],\n",
       "       [1., 1., 1., 1., 1.],\n",
       "       [1., 1., 1., 1., 1.]])"
      ]
     },
     "execution_count": 331,
     "metadata": {},
     "output_type": "execute_result"
    }
   ],
   "source": [
    "np.ones((10,5)) ##returns 2-d array with 10 rows and 5 columns of ones(1's)"
   ]
  },
  {
   "cell_type": "code",
   "execution_count": 332,
   "metadata": {},
   "outputs": [
    {
     "name": "stdout",
     "output_type": "stream",
     "text": [
      "[[1 2]\n",
      " [3 4]\n",
      " [5 6]]\n"
     ]
    }
   ],
   "source": [
    "lse=[[1,2],[3,4],[5,6]] ##initialization of 2-d array\n",
    "x=np.array(lse)\n",
    "print(x)"
   ]
  },
  {
   "cell_type": "code",
   "execution_count": 333,
   "metadata": {},
   "outputs": [
    {
     "data": {
      "text/plain": [
       "array([[[0., 0., 0., 0., 0., 0.],\n",
       "        [0., 0., 0., 0., 0., 0.],\n",
       "        [0., 0., 0., 0., 0., 0.],\n",
       "        [0., 0., 0., 0., 0., 0.],\n",
       "        [0., 0., 0., 0., 0., 0.]],\n",
       "\n",
       "       [[0., 0., 0., 0., 0., 0.],\n",
       "        [0., 0., 0., 0., 0., 0.],\n",
       "        [0., 0., 0., 0., 0., 0.],\n",
       "        [0., 0., 0., 0., 0., 0.],\n",
       "        [0., 0., 0., 0., 0., 0.]],\n",
       "\n",
       "       [[0., 0., 0., 0., 0., 0.],\n",
       "        [0., 0., 0., 0., 0., 0.],\n",
       "        [0., 0., 0., 0., 0., 0.],\n",
       "        [0., 0., 0., 0., 0., 0.],\n",
       "        [0., 0., 0., 0., 0., 0.]],\n",
       "\n",
       "       [[0., 0., 0., 0., 0., 0.],\n",
       "        [0., 0., 0., 0., 0., 0.],\n",
       "        [0., 0., 0., 0., 0., 0.],\n",
       "        [0., 0., 0., 0., 0., 0.],\n",
       "        [0., 0., 0., 0., 0., 0.]],\n",
       "\n",
       "       [[0., 0., 0., 0., 0., 0.],\n",
       "        [0., 0., 0., 0., 0., 0.],\n",
       "        [0., 0., 0., 0., 0., 0.],\n",
       "        [0., 0., 0., 0., 0., 0.],\n",
       "        [0., 0., 0., 0., 0., 0.]],\n",
       "\n",
       "       [[0., 0., 0., 0., 0., 0.],\n",
       "        [0., 0., 0., 0., 0., 0.],\n",
       "        [0., 0., 0., 0., 0., 0.],\n",
       "        [0., 0., 0., 0., 0., 0.],\n",
       "        [0., 0., 0., 0., 0., 0.]],\n",
       "\n",
       "       [[0., 0., 0., 0., 0., 0.],\n",
       "        [0., 0., 0., 0., 0., 0.],\n",
       "        [0., 0., 0., 0., 0., 0.],\n",
       "        [0., 0., 0., 0., 0., 0.],\n",
       "        [0., 0., 0., 0., 0., 0.]],\n",
       "\n",
       "       [[0., 0., 0., 0., 0., 0.],\n",
       "        [0., 0., 0., 0., 0., 0.],\n",
       "        [0., 0., 0., 0., 0., 0.],\n",
       "        [0., 0., 0., 0., 0., 0.],\n",
       "        [0., 0., 0., 0., 0., 0.]],\n",
       "\n",
       "       [[0., 0., 0., 0., 0., 0.],\n",
       "        [0., 0., 0., 0., 0., 0.],\n",
       "        [0., 0., 0., 0., 0., 0.],\n",
       "        [0., 0., 0., 0., 0., 0.],\n",
       "        [0., 0., 0., 0., 0., 0.]],\n",
       "\n",
       "       [[0., 0., 0., 0., 0., 0.],\n",
       "        [0., 0., 0., 0., 0., 0.],\n",
       "        [0., 0., 0., 0., 0., 0.],\n",
       "        [0., 0., 0., 0., 0., 0.],\n",
       "        [0., 0., 0., 0., 0., 0.]]])"
      ]
     },
     "execution_count": 333,
     "metadata": {},
     "output_type": "execute_result"
    }
   ],
   "source": [
    "np.zeros((10,5,6)) ## returns 3-d array (combionation of more than 1 two dimensional array)"
   ]
  },
  {
   "cell_type": "code",
   "execution_count": 334,
   "metadata": {},
   "outputs": [
    {
     "data": {
      "text/plain": [
       "array([1.  , 2.75, 4.5 , 6.25, 8.  ])"
      ]
     },
     "execution_count": 334,
     "metadata": {},
     "output_type": "execute_result"
    }
   ],
   "source": [
    "np.linspace(1,8,5) ## returns 5 items between 1 to 8."
   ]
  },
  {
   "cell_type": "code",
   "execution_count": 335,
   "metadata": {},
   "outputs": [
    {
     "name": "stdout",
     "output_type": "stream",
     "text": [
      "5\n",
      "0.647843897080713\n",
      "1\n"
     ]
    }
   ],
   "source": [
    "import random ## Random library\n",
    "print(random.randint(1,5)) ## returns random integer number between 1 to 5 but excluding 5.\n",
    "print(random.random()) ## returns random floating point number from 0 to 1.\n",
    "print(random.randrange(1,4)) ## returns random integer from 1 to 4 excluding 4.\n"
   ]
  },
  {
   "cell_type": "code",
   "execution_count": 336,
   "metadata": {},
   "outputs": [
    {
     "name": "stdout",
     "output_type": "stream",
     "text": [
      "priyanshi\n",
      "['kartik', 'priyanshi']\n"
     ]
    }
   ],
   "source": [
    "lsw=[\"kartik\",\"ronak\",\"priyanshi\"]\n",
    "print(random.choice(lsw)) ## returns random element from the list.\n",
    "print(random.choices(lsw,k=2)) ## returns random 2 elements from list.\n"
   ]
  },
  {
   "cell_type": "code",
   "execution_count": 337,
   "metadata": {},
   "outputs": [
    {
     "name": "stdout",
     "output_type": "stream",
     "text": [
      "['ronak', 'kartik', 'priyanshi']\n"
     ]
    }
   ],
   "source": [
    "random.shuffle(lsw) ## shuffle items in the list.\n",
    "print(lsw)"
   ]
  },
  {
   "cell_type": "code",
   "execution_count": 338,
   "metadata": {},
   "outputs": [
    {
     "name": "stdout",
     "output_type": "stream",
     "text": [
      "[ 4 11 10 20 30 43 18 25  1 10]\n"
     ]
    }
   ],
   "source": [
    "print(np.random.randint(1,50,10)) ## returns 1-d array from 1 to 50 (10 elements)"
   ]
  },
  {
   "cell_type": "code",
   "execution_count": 339,
   "metadata": {},
   "outputs": [
    {
     "name": "stdout",
     "output_type": "stream",
     "text": [
      "[[20  5  7 43 19]\n",
      " [ 8  5 39 36 39]\n",
      " [24 24 13  5 40]\n",
      " [26  4 35 11 49]\n",
      " [41  9 18  3 14]\n",
      " [16 31 13 10  7]\n",
      " [41 15 36 34  4]\n",
      " [43 40 21 13 18]\n",
      " [12 13 46 28 38]\n",
      " [41 37 13 20 14]]\n"
     ]
    }
   ],
   "source": [
    "print(np.random.randint(1,50,(10,5))) ## returns 2-d array from 1 to 50 (10 rows and 5 columns)"
   ]
  },
  {
   "cell_type": "code",
   "execution_count": 340,
   "metadata": {},
   "outputs": [
    {
     "data": {
      "text/plain": [
       "array([  0,   1,   2,   3,   4,   5,   6,   7,   8,   9,  10,  11,  12,\n",
       "        13,  14,  15,  16,  17,  18,  19,  20,  21,  22,  23,  24,  25,\n",
       "        26,  27,  28,  29,  30,  31,  32,  33,  34,  35,  36,  37,  38,\n",
       "        39,  40,  41,  42,  43,  44,  45,  46,  47,  48,  49,  50,  51,\n",
       "        52,  53,  54,  55,  56,  57,  58,  59,  60,  61,  62,  63,  64,\n",
       "        65,  66,  67,  68,  69,  70,  71,  72,  73,  74,  75,  76,  77,\n",
       "        78,  79,  80,  81,  82,  83,  84,  85,  86,  87,  88,  89,  90,\n",
       "        91,  92,  93,  94,  95,  96,  97,  98,  99, 100, 101, 102, 103,\n",
       "       104, 105, 106, 107])"
      ]
     },
     "execution_count": 340,
     "metadata": {},
     "output_type": "execute_result"
    }
   ],
   "source": [
    "ae=np.arange(108)\n",
    "ae"
   ]
  },
  {
   "cell_type": "code",
   "execution_count": 341,
   "metadata": {},
   "outputs": [
    {
     "data": {
      "text/plain": [
       "array([[  0,   1,   2,   3,   4,   5,   6,   7,   8],\n",
       "       [  9,  10,  11,  12,  13,  14,  15,  16,  17],\n",
       "       [ 18,  19,  20,  21,  22,  23,  24,  25,  26],\n",
       "       [ 27,  28,  29,  30,  31,  32,  33,  34,  35],\n",
       "       [ 36,  37,  38,  39,  40,  41,  42,  43,  44],\n",
       "       [ 45,  46,  47,  48,  49,  50,  51,  52,  53],\n",
       "       [ 54,  55,  56,  57,  58,  59,  60,  61,  62],\n",
       "       [ 63,  64,  65,  66,  67,  68,  69,  70,  71],\n",
       "       [ 72,  73,  74,  75,  76,  77,  78,  79,  80],\n",
       "       [ 81,  82,  83,  84,  85,  86,  87,  88,  89],\n",
       "       [ 90,  91,  92,  93,  94,  95,  96,  97,  98],\n",
       "       [ 99, 100, 101, 102, 103, 104, 105, 106, 107]])"
      ]
     },
     "execution_count": 341,
     "metadata": {},
     "output_type": "execute_result"
    }
   ],
   "source": [
    "ae.reshape(12,9) ## change shape (dimension) of array."
   ]
  },
  {
   "cell_type": "code",
   "execution_count": 342,
   "metadata": {},
   "outputs": [
    {
     "data": {
      "text/plain": [
       "array([  0,   1,   2,   3,   4,   5,   6,   7,   8,   9,  10,  11,  12,\n",
       "        13,  14,  15,  16,  17,  18,  19,  20,  21,  22,  23,  24,  25,\n",
       "        26,  27,  28,  29,  30,  31,  32,  33,  34,  35,  36,  37,  38,\n",
       "        39,  40,  41,  42,  43,  44,  45,  46,  47,  48,  49,  50,  51,\n",
       "        52,  53,  54,  55,  56,  57,  58,  59,  60,  61,  62,  63,  64,\n",
       "        65,  66,  67,  68,  69,  70,  71,  72,  73,  74,  75,  76,  77,\n",
       "        78,  79,  80,  81,  82,  83,  84,  85,  86,  87,  88,  89,  90,\n",
       "        91,  92,  93,  94,  95,  96,  97,  98,  99, 100, 101, 102, 103,\n",
       "       104, 105, 106, 107])"
      ]
     },
     "execution_count": 342,
     "metadata": {},
     "output_type": "execute_result"
    }
   ],
   "source": [
    "ae"
   ]
  },
  {
   "cell_type": "code",
   "execution_count": 343,
   "metadata": {},
   "outputs": [
    {
     "name": "stdout",
     "output_type": "stream",
     "text": [
      "[[  0   1   2   3   4   5   6   7   8   9  10  11]\n",
      " [ 12  13  14  15  16  17  18  19  20  21  22  23]\n",
      " [ 24  25  26  27  28  29  30  31  32  33  34  35]\n",
      " [ 36  37  38  39  40  41  42  43  44  45  46  47]\n",
      " [ 48  49  50  51  52  53  54  55  56  57  58  59]\n",
      " [ 60  61  62  63  64  65  66  67  68  69  70  71]\n",
      " [ 72  73  74  75  76  77  78  79  80  81  82  83]\n",
      " [ 84  85  86  87  88  89  90  91  92  93  94  95]\n",
      " [ 96  97  98  99 100 101 102 103 104 105 106 107]]\n"
     ]
    }
   ],
   "source": [
    "ae.resize(9,12) # change dimension of array\n",
    "print(ae)"
   ]
  },
  {
   "cell_type": "code",
   "execution_count": 344,
   "metadata": {},
   "outputs": [
    {
     "data": {
      "text/plain": [
       "5778"
      ]
     },
     "execution_count": 344,
     "metadata": {},
     "output_type": "execute_result"
    }
   ],
   "source": [
    "ae.sum() ## returns sum of elements of array."
   ]
  },
  {
   "cell_type": "code",
   "execution_count": 345,
   "metadata": {},
   "outputs": [
    {
     "data": {
      "text/plain": [
       "(9, 12)"
      ]
     },
     "execution_count": 345,
     "metadata": {},
     "output_type": "execute_result"
    }
   ],
   "source": [
    "ae.shape ## returns rows and columns of array (shape)"
   ]
  },
  {
   "cell_type": "code",
   "execution_count": 346,
   "metadata": {},
   "outputs": [
    {
     "data": {
      "text/plain": [
       "2"
      ]
     },
     "execution_count": 346,
     "metadata": {},
     "output_type": "execute_result"
    }
   ],
   "source": [
    "ae.ndim ## returns dimension of array."
   ]
  },
  {
   "cell_type": "code",
   "execution_count": 347,
   "metadata": {},
   "outputs": [
    {
     "data": {
      "text/plain": [
       "array([  0,   1,   2,   3,   4,   5,   6,   7,   8,   9,  10,  11,  12,\n",
       "        13,  14,  15,  16,  17,  18,  19,  20,  21,  22,  23,  24,  25,\n",
       "        26,  27,  28,  29,  30,  31,  32,  33,  34,  35,  36,  37,  38,\n",
       "        39,  40,  41,  42,  43,  44,  45,  46,  47,  48,  49,  50,  51,\n",
       "        52,  53,  54,  55,  56,  57,  58,  59,  60,  61,  62,  63,  64,\n",
       "        65,  66,  67,  68,  69,  70,  71,  72,  73,  74,  75,  76,  77,\n",
       "        78,  79,  80,  81,  82,  83,  84,  85,  86,  87,  88,  89,  90,\n",
       "        91,  92,  93,  94,  95,  96,  97,  98,  99, 100, 101, 102, 103,\n",
       "       104, 105, 106, 107])"
      ]
     },
     "execution_count": 347,
     "metadata": {},
     "output_type": "execute_result"
    }
   ],
   "source": [
    "ae.reshape(108) ## change dimension (shape)"
   ]
  },
  {
   "cell_type": "code",
   "execution_count": 348,
   "metadata": {},
   "outputs": [
    {
     "data": {
      "text/plain": [
       "array([  0,   1,   2,   3,   4,   5,   6,   7,   8,   9,  10,  11,  12,\n",
       "        13,  14,  15,  16,  17,  18,  19,  20,  21,  22,  23,  24,  25,\n",
       "        26,  27,  28,  29,  30,  31,  32,  33,  34,  35,  36,  37,  38,\n",
       "        39,  40,  41,  42,  43,  44,  45,  46,  47,  48,  49,  50,  51,\n",
       "        52,  53,  54,  55,  56,  57,  58,  59,  60,  61,  62,  63,  64,\n",
       "        65,  66,  67,  68,  69,  70,  71,  72,  73,  74,  75,  76,  77,\n",
       "        78,  79,  80,  81,  82,  83,  84,  85,  86,  87,  88,  89,  90,\n",
       "        91,  92,  93,  94,  95,  96,  97,  98,  99, 100, 101, 102, 103,\n",
       "       104, 105, 106, 107])"
      ]
     },
     "execution_count": 348,
     "metadata": {},
     "output_type": "execute_result"
    }
   ],
   "source": [
    "ae.ravel() ## convert nd to 1-d"
   ]
  },
  {
   "cell_type": "code",
   "execution_count": 349,
   "metadata": {},
   "outputs": [
    {
     "data": {
      "text/plain": [
       "array([  0,   1,   2,   3,   4,   5,   6,   7,   8,   9,  10,  11,  12,\n",
       "        13,  14,  15,  16,  17,  18,  19,  20,  21,  22,  23,  24,  25,\n",
       "        26,  27,  28,  29,  30,  31,  32,  33,  34,  35,  36,  37,  38,\n",
       "        39,  40,  41,  42,  43,  44,  45,  46,  47,  48,  49,  50,  51,\n",
       "        52,  53,  54,  55,  56,  57,  58,  59,  60,  61,  62,  63,  64,\n",
       "        65,  66,  67,  68,  69,  70,  71,  72,  73,  74,  75,  76,  77,\n",
       "        78,  79,  80,  81,  82,  83,  84,  85,  86,  87,  88,  89,  90,\n",
       "        91,  92,  93,  94,  95,  96,  97,  98,  99, 100, 101, 102, 103,\n",
       "       104, 105, 106, 107])"
      ]
     },
     "execution_count": 349,
     "metadata": {},
     "output_type": "execute_result"
    }
   ],
   "source": [
    "ae.flatten() ## same as ravel"
   ]
  },
  {
   "cell_type": "code",
   "execution_count": 350,
   "metadata": {},
   "outputs": [
    {
     "name": "stdout",
     "output_type": "stream",
     "text": [
      "[42 10 16 37 21 26 11 33 19 26 34 33 34 14 48 11 38 17 11 19 42 18  9 37\n",
      " 35 24 38 31 21 31 34 23 39 47 41  7 31  7 33 20 19 36 39 16 14 45 27 18\n",
      "  6 43 34 31  8 24 25  5 45 25 49 28 11 30 16 39 21 47 49 13 35 27 35 27\n",
      " 45 11 10 11  7 33 38 20 15  9 27  7 36 26  5 13 15 13 10 14 48 14 30 17\n",
      " 30 24 35 43]\n"
     ]
    }
   ],
   "source": [
    "arr=np.random.randint(5,50,100) ## returns array of random elements with 100 items from 5 to 50.\n",
    "print(arr)"
   ]
  },
  {
   "cell_type": "code",
   "execution_count": 351,
   "metadata": {},
   "outputs": [
    {
     "name": "stdout",
     "output_type": "stream",
     "text": [
      "2561\n"
     ]
    }
   ],
   "source": [
    "print(arr.sum()) ## returns sum of elements of array (arr)."
   ]
  },
  {
   "cell_type": "code",
   "execution_count": 352,
   "metadata": {},
   "outputs": [
    {
     "name": "stdout",
     "output_type": "stream",
     "text": [
      "25.61\n"
     ]
    }
   ],
   "source": [
    "print(arr.mean()) #n returns mean(average) of elements of array."
   ]
  },
  {
   "cell_type": "code",
   "execution_count": 353,
   "metadata": {},
   "outputs": [
    {
     "name": "stdout",
     "output_type": "stream",
     "text": [
      "[[29 37 25]\n",
      " [16  9 27]\n",
      " [40 38  7]\n",
      " [13 43 30]]\n"
     ]
    }
   ],
   "source": [
    "arr2=np.random.randint(5,50,(4,3)) ## returns 2-d array of random elements with 4 rows and 3 columns from 5 to 50.\n",
    "print(arr2)"
   ]
  },
  {
   "cell_type": "code",
   "execution_count": 354,
   "metadata": {},
   "outputs": [
    {
     "data": {
      "text/plain": [
       "(4, 3)"
      ]
     },
     "execution_count": 354,
     "metadata": {},
     "output_type": "execute_result"
    }
   ],
   "source": [
    "arr2.shape"
   ]
  },
  {
   "cell_type": "code",
   "execution_count": 355,
   "metadata": {},
   "outputs": [
    {
     "name": "stdout",
     "output_type": "stream",
     "text": [
      "[[29 16 40 13]\n",
      " [37  9 38 43]\n",
      " [25 27  7 30]]\n"
     ]
    }
   ],
   "source": [
    "print(np.transpose(arr2)) ## transpose 2-d array (change rows with column and vice-versa.)"
   ]
  },
  {
   "cell_type": "code",
   "execution_count": 356,
   "metadata": {},
   "outputs": [
    {
     "name": "stdout",
     "output_type": "stream",
     "text": [
      "[[29 16 40 13]\n",
      " [37  9 38 43]\n",
      " [25 27  7 30]]\n"
     ]
    }
   ],
   "source": [
    "print(arr2.T) ## same as transpose"
   ]
  },
  {
   "cell_type": "code",
   "execution_count": 357,
   "metadata": {},
   "outputs": [
    {
     "name": "stdout",
     "output_type": "stream",
     "text": [
      "[[ 6 11 10  7  7]\n",
      " [ 6 11  6  3  9]\n",
      " [ 7 11  3 11  2]\n",
      " [ 9  5  7  5  7]\n",
      " [ 5  5  2  8  4]\n",
      " [ 4  7 10  4  3]\n",
      " [ 6  8 10  8 11]\n",
      " [ 9 11  3  4  3]\n",
      " [10  7  9  8  7]\n",
      " [ 6  8 10 10  6]]\n"
     ]
    }
   ],
   "source": [
    "arr3=np.random.randint(2,12,(10,5))\n",
    "print(arr3)"
   ]
  },
  {
   "cell_type": "code",
   "execution_count": 358,
   "metadata": {},
   "outputs": [
    {
     "data": {
      "text/plain": [
       "array([ 6, 11, 10,  7,  7,  6, 11,  6,  3,  9,  7, 11,  3, 11,  2,  9,  5,\n",
       "        7,  5,  7,  5,  5,  2,  8,  4,  4,  7, 10,  4,  3,  6,  8, 10,  8,\n",
       "       11,  9, 11,  3,  4,  3, 10,  7,  9,  8,  7,  6,  8, 10, 10,  6])"
      ]
     },
     "execution_count": 358,
     "metadata": {},
     "output_type": "execute_result"
    }
   ],
   "source": [
    "arr3.reshape(50) ##converts arr3 to 1-d"
   ]
  },
  {
   "cell_type": "code",
   "execution_count": 359,
   "metadata": {},
   "outputs": [
    {
     "data": {
      "text/plain": [
       "array([ 6, 11, 10,  7,  7,  6, 11,  6,  3,  9,  7, 11,  3, 11,  2,  9,  5,\n",
       "        7,  5,  7,  5,  5,  2,  8,  4,  4,  7, 10,  4,  3,  6,  8, 10,  8,\n",
       "       11,  9, 11,  3,  4,  3, 10,  7,  9,  8,  7,  6,  8, 10, 10,  6])"
      ]
     },
     "execution_count": 359,
     "metadata": {},
     "output_type": "execute_result"
    }
   ],
   "source": [
    "np.ravel(arr3) ## converts arr3 to 1-d"
   ]
  },
  {
   "cell_type": "code",
   "execution_count": 360,
   "metadata": {},
   "outputs": [
    {
     "data": {
      "text/plain": [
       "array([ 6, 11, 10,  7,  7,  6, 11,  6,  3,  9,  7, 11,  3, 11,  2,  9,  5,\n",
       "        7,  5,  7,  5,  5,  2,  8,  4,  4,  7, 10,  4,  3,  6,  8, 10,  8,\n",
       "       11,  9, 11,  3,  4,  3, 10,  7,  9,  8,  7,  6,  8, 10, 10,  6])"
      ]
     },
     "execution_count": 360,
     "metadata": {},
     "output_type": "execute_result"
    }
   ],
   "source": [
    "arr3.flatten() ## same as ravel"
   ]
  },
  {
   "cell_type": "code",
   "execution_count": 361,
   "metadata": {},
   "outputs": [
    {
     "name": "stdout",
     "output_type": "stream",
     "text": [
      "[[ 7  5  7]\n",
      " [ 2  8  4]\n",
      " [10  4  3]]\n"
     ]
    }
   ],
   "source": [
    "print(arr3[3:6,2:]) ## accessing elements from array."
   ]
  },
  {
   "cell_type": "code",
   "execution_count": 362,
   "metadata": {},
   "outputs": [
    {
     "data": {
      "text/plain": [
       "array([[10,  7,  7],\n",
       "       [ 3, 11,  2],\n",
       "       [ 2,  8,  4],\n",
       "       [10,  8, 11],\n",
       "       [ 9,  8,  7]])"
      ]
     },
     "execution_count": 362,
     "metadata": {},
     "output_type": "execute_result"
    }
   ],
   "source": [
    "arr3[::2,2:]"
   ]
  },
  {
   "cell_type": "markdown",
   "metadata": {},
   "source": [
    "3-D"
   ]
  },
  {
   "cell_type": "code",
   "execution_count": 363,
   "metadata": {},
   "outputs": [
    {
     "name": "stdout",
     "output_type": "stream",
     "text": [
      "[[[ 8  2  6  3  9]\n",
      "  [ 5  9  2  3  5]\n",
      "  [ 3  8  3 11  5]\n",
      "  [ 9 10 10  2 11]\n",
      "  [ 8  6  8  3 11]\n",
      "  [10  2  5 11  5]\n",
      "  [ 9  2 10  3 10]\n",
      "  [11 10  5 10  6]\n",
      "  [ 6  2  9  6  9]\n",
      "  [ 3  2  8  8  5]]\n",
      "\n",
      " [[10  5  5  7 11]\n",
      "  [10  4  4  2 11]\n",
      "  [10  5  6 11  9]\n",
      "  [ 4  2  9  4  7]\n",
      "  [ 4  7  9  6  4]\n",
      "  [ 3 10 11 10  3]\n",
      "  [ 5 10  5 11  8]\n",
      "  [ 2  5 11 10  7]\n",
      "  [11  5  6  4 10]\n",
      "  [ 6  2 10  6  4]]\n",
      "\n",
      " [[ 8 11  5  3  2]\n",
      "  [ 9  5  2  2  5]\n",
      "  [ 4  7  9  5  9]\n",
      "  [11  4  6  9 10]\n",
      "  [11  6  9  3  5]\n",
      "  [ 8  6  6  4  4]\n",
      "  [ 9  6  7  3  6]\n",
      "  [10  4 10 11 11]\n",
      "  [ 6  8  3  7  4]\n",
      "  [ 8  3  5  9 11]]\n",
      "\n",
      " [[ 4  3  3  5 10]\n",
      "  [ 5 11  8  2  8]\n",
      "  [ 7  2  8  3  3]\n",
      "  [ 8 11  3  2  5]\n",
      "  [ 2  2  5  6  7]\n",
      "  [ 5  6  3  8  2]\n",
      "  [11  9  6  8 11]\n",
      "  [ 9  5  4  8 11]\n",
      "  [ 8  3  2  9  3]\n",
      "  [ 9  4  5  8  5]]\n",
      "\n",
      " [[10  8  2  7  8]\n",
      "  [ 9  5  8  6  5]\n",
      "  [ 8  9  2  3  8]\n",
      "  [ 5  2  3  2  3]\n",
      "  [ 9  8  8 11  7]\n",
      "  [ 6  8  3  7  5]\n",
      "  [ 2  8  7  2  8]\n",
      "  [ 8  2  6 10  4]\n",
      "  [ 6  3  7  6  9]\n",
      "  [ 6  8  7  7  3]]]\n"
     ]
    }
   ],
   "source": [
    "\n",
    "arr=np.random.randint(2,12,(5,10,5)) ## returns 3-d array with 5 layers, 10 rows and 5 columns from 2 to 12\n",
    "print(arr)"
   ]
  },
  {
   "cell_type": "code",
   "execution_count": 364,
   "metadata": {},
   "outputs": [],
   "source": [
    "#3D==Tables,Rows,columns"
   ]
  },
  {
   "cell_type": "code",
   "execution_count": 365,
   "metadata": {},
   "outputs": [
    {
     "data": {
      "text/plain": [
       "array([[ 8,  2,  6,  3,  9],\n",
       "       [ 5,  9,  2,  3,  5],\n",
       "       [ 3,  8,  3, 11,  5],\n",
       "       [ 9, 10, 10,  2, 11],\n",
       "       [ 8,  6,  8,  3, 11],\n",
       "       [10,  2,  5, 11,  5],\n",
       "       [ 9,  2, 10,  3, 10],\n",
       "       [11, 10,  5, 10,  6],\n",
       "       [ 6,  2,  9,  6,  9],\n",
       "       [ 3,  2,  8,  8,  5]])"
      ]
     },
     "execution_count": 365,
     "metadata": {},
     "output_type": "execute_result"
    }
   ],
   "source": [
    "arr[0] ## table [0]"
   ]
  },
  {
   "cell_type": "code",
   "execution_count": 366,
   "metadata": {},
   "outputs": [
    {
     "data": {
      "text/plain": [
       "array([8, 2, 6, 3, 9])"
      ]
     },
     "execution_count": 366,
     "metadata": {},
     "output_type": "execute_result"
    }
   ],
   "source": [
    "arr[0][0] ## First row first table"
   ]
  },
  {
   "cell_type": "code",
   "execution_count": 367,
   "metadata": {},
   "outputs": [
    {
     "data": {
      "text/plain": [
       "8"
      ]
     },
     "execution_count": 367,
     "metadata": {},
     "output_type": "execute_result"
    }
   ],
   "source": [
    "arr[0][0][0] ## accessing first element of first row of first table"
   ]
  },
  {
   "cell_type": "code",
   "execution_count": 368,
   "metadata": {},
   "outputs": [
    {
     "name": "stdout",
     "output_type": "stream",
     "text": [
      "[[[9 6 9]\n",
      "  [8 8 5]]]\n"
     ]
    }
   ],
   "source": [
    "print(arr[0:1,8:,2:]) ## accessing element from array"
   ]
  },
  {
   "cell_type": "code",
   "execution_count": 369,
   "metadata": {},
   "outputs": [
    {
     "name": "stdout",
     "output_type": "stream",
     "text": [
      "[[[ 3  2  8  8  5]]\n",
      "\n",
      " [[ 6  2 10  6  4]]\n",
      "\n",
      " [[ 8  3  5  9 11]]\n",
      "\n",
      " [[ 9  4  5  8  5]]\n",
      "\n",
      " [[ 6  8  7  7  3]]]\n"
     ]
    }
   ],
   "source": [
    "print(arr[:,-1:,:])"
   ]
  },
  {
   "cell_type": "code",
   "execution_count": 370,
   "metadata": {},
   "outputs": [
    {
     "data": {
      "text/plain": [
       "11"
      ]
     },
     "execution_count": 370,
     "metadata": {},
     "output_type": "execute_result"
    }
   ],
   "source": [
    "arr.max() ## returns maximum value from array"
   ]
  },
  {
   "cell_type": "code",
   "execution_count": 371,
   "metadata": {},
   "outputs": [
    {
     "data": {
      "text/plain": [
       "13"
      ]
     },
     "execution_count": 371,
     "metadata": {},
     "output_type": "execute_result"
    }
   ],
   "source": [
    "arr.argmax() ## return index of maximum value from array"
   ]
  },
  {
   "cell_type": "code",
   "execution_count": 372,
   "metadata": {},
   "outputs": [
    {
     "name": "stdout",
     "output_type": "stream",
     "text": [
      "[[[ 2  3  6  8  9]\n",
      "  [ 2  3  5  5  9]\n",
      "  [ 3  3  5  8 11]\n",
      "  [ 2  9 10 10 11]\n",
      "  [ 3  6  8  8 11]\n",
      "  [ 2  5  5 10 11]\n",
      "  [ 2  3  9 10 10]\n",
      "  [ 5  6 10 10 11]\n",
      "  [ 2  6  6  9  9]\n",
      "  [ 2  3  5  8  8]]\n",
      "\n",
      " [[ 5  5  7 10 11]\n",
      "  [ 2  4  4 10 11]\n",
      "  [ 5  6  9 10 11]\n",
      "  [ 2  4  4  7  9]\n",
      "  [ 4  4  6  7  9]\n",
      "  [ 3  3 10 10 11]\n",
      "  [ 5  5  8 10 11]\n",
      "  [ 2  5  7 10 11]\n",
      "  [ 4  5  6 10 11]\n",
      "  [ 2  4  6  6 10]]\n",
      "\n",
      " [[ 2  3  5  8 11]\n",
      "  [ 2  2  5  5  9]\n",
      "  [ 4  5  7  9  9]\n",
      "  [ 4  6  9 10 11]\n",
      "  [ 3  5  6  9 11]\n",
      "  [ 4  4  6  6  8]\n",
      "  [ 3  6  6  7  9]\n",
      "  [ 4 10 10 11 11]\n",
      "  [ 3  4  6  7  8]\n",
      "  [ 3  5  8  9 11]]\n",
      "\n",
      " [[ 3  3  4  5 10]\n",
      "  [ 2  5  8  8 11]\n",
      "  [ 2  3  3  7  8]\n",
      "  [ 2  3  5  8 11]\n",
      "  [ 2  2  5  6  7]\n",
      "  [ 2  3  5  6  8]\n",
      "  [ 6  8  9 11 11]\n",
      "  [ 4  5  8  9 11]\n",
      "  [ 2  3  3  8  9]\n",
      "  [ 4  5  5  8  9]]\n",
      "\n",
      " [[ 2  7  8  8 10]\n",
      "  [ 5  5  6  8  9]\n",
      "  [ 2  3  8  8  9]\n",
      "  [ 2  2  3  3  5]\n",
      "  [ 7  8  8  9 11]\n",
      "  [ 3  5  6  7  8]\n",
      "  [ 2  2  7  8  8]\n",
      "  [ 2  4  6  8 10]\n",
      "  [ 3  6  6  7  9]\n",
      "  [ 3  6  7  7  8]]]\n"
     ]
    }
   ],
   "source": [
    "arr.sort() ## sort elements in array(only in 1 dimension. if applied on 2-d then sort elements in row only)\n",
    "print(arr)"
   ]
  },
  {
   "cell_type": "code",
   "execution_count": 373,
   "metadata": {},
   "outputs": [
    {
     "name": "stdout",
     "output_type": "stream",
     "text": [
      "[6 5 7]\n"
     ]
    }
   ],
   "source": [
    "ar=np.random.randint(5,10,3)\n",
    "print(ar)"
   ]
  },
  {
   "cell_type": "code",
   "execution_count": 374,
   "metadata": {},
   "outputs": [
    {
     "name": "stdout",
     "output_type": "stream",
     "text": [
      "[5 6 7]\n"
     ]
    }
   ],
   "source": [
    "ar.sort()\n",
    "print(ar)"
   ]
  },
  {
   "cell_type": "code",
   "execution_count": 375,
   "metadata": {},
   "outputs": [
    {
     "data": {
      "text/plain": [
       "array([0, 1, 2], dtype=int64)"
      ]
     },
     "execution_count": 375,
     "metadata": {},
     "output_type": "execute_result"
    }
   ],
   "source": [
    "ar.argsort() ## returns position of elements according to increasing order"
   ]
  },
  {
   "cell_type": "code",
   "execution_count": 376,
   "metadata": {},
   "outputs": [
    {
     "data": {
      "text/plain": [
       "array([[ 9,  9, 10,  2,  3],\n",
       "       [10, 11, 10,  2,  6],\n",
       "       [10,  2, 11,  7,  3],\n",
       "       [ 6,  4,  6,  7,  9],\n",
       "       [10,  8,  5, 10,  9],\n",
       "       [ 5,  2, 11, 10,  6],\n",
       "       [ 4,  5,  3, 10,  8],\n",
       "       [ 2,  3,  5,  3,  9],\n",
       "       [ 3,  7,  5,  2,  6],\n",
       "       [ 4,  6,  7,  9,  5]])"
      ]
     },
     "execution_count": 376,
     "metadata": {},
     "output_type": "execute_result"
    }
   ],
   "source": [
    "arr=np.random.randint(2,12,(10,5))\n",
    "arr"
   ]
  },
  {
   "cell_type": "code",
   "execution_count": 377,
   "metadata": {},
   "outputs": [
    {
     "data": {
      "text/plain": [
       "array([ 2,  3,  4,  5,  6,  7,  8,  9, 10, 11])"
      ]
     },
     "execution_count": 377,
     "metadata": {},
     "output_type": "execute_result"
    }
   ],
   "source": [
    "np.unique(arr) ## returns unique items (1 item, single time only)"
   ]
  },
  {
   "cell_type": "code",
   "execution_count": 378,
   "metadata": {},
   "outputs": [
    {
     "name": "stdout",
     "output_type": "stream",
     "text": [
      "6.38\n",
      "6.0\n"
     ]
    }
   ],
   "source": [
    "print(arr.mean()) ##returns mean of elements of array.\n",
    "print(np.median(arr)) ## returns median of elements of array"
   ]
  },
  {
   "cell_type": "code",
   "execution_count": 379,
   "metadata": {},
   "outputs": [
    {
     "name": "stdout",
     "output_type": "stream",
     "text": [
      "2.9318253699700465\n",
      "\n",
      "\n",
      "\n",
      "[[3.         3.         3.16227766 1.41421356 1.73205081]\n",
      " [3.16227766 3.31662479 3.16227766 1.41421356 2.44948974]\n",
      " [3.16227766 1.41421356 3.31662479 2.64575131 1.73205081]\n",
      " [2.44948974 2.         2.44948974 2.64575131 3.        ]\n",
      " [3.16227766 2.82842712 2.23606798 3.16227766 3.        ]\n",
      " [2.23606798 1.41421356 3.31662479 3.16227766 2.44948974]\n",
      " [2.         2.23606798 1.73205081 3.16227766 2.82842712]\n",
      " [1.41421356 1.73205081 2.23606798 1.73205081 3.        ]\n",
      " [1.73205081 2.64575131 2.23606798 1.41421356 2.44948974]\n",
      " [2.         2.44948974 2.64575131 3.         2.23606798]]\n"
     ]
    }
   ],
   "source": [
    "print(arr.std()) ## returns standard daviation\n",
    "print(\"\\n\\n\")\n",
    "print(np.sqrt(arr)) ## returns square root of elemnts of array."
   ]
  },
  {
   "cell_type": "markdown",
   "metadata": {},
   "source": [
    "<h2 style='text-align:center; color:green'>Thank You</h2>"
   ]
  }
 ],
 "metadata": {
  "kernelspec": {
   "display_name": "Python 3",
   "language": "python",
   "name": "python3"
  },
  "language_info": {
   "codemirror_mode": {
    "name": "ipython",
    "version": 3
   },
   "file_extension": ".py",
   "mimetype": "text/x-python",
   "name": "python",
   "nbconvert_exporter": "python",
   "pygments_lexer": "ipython3",
   "version": "3.11.7"
  }
 },
 "nbformat": 4,
 "nbformat_minor": 2
}
